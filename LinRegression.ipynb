{
 "cells": [
  {
   "cell_type": "code",
   "execution_count": 1,
   "id": "06e9efeb-5fb1-4a7d-8ba2-fa93705ee35e",
   "metadata": {},
   "outputs": [],
   "source": [
    "import copy\n",
    "import math"
   ]
  },
  {
   "cell_type": "code",
   "execution_count": 2,
   "id": "876cd4e7-5d7c-4474-89ea-d41048463840",
   "metadata": {},
   "outputs": [],
   "source": [
    "class LinearRegression:\n",
    "        \n",
    "    def compute_cost(self,x,y,w,b):\n",
    "        m = x.shape[0]\n",
    "        cost = 0\n",
    "        for i in range(m):\n",
    "            yhat = x[i]*w + b\n",
    "            cost += (yhat-y[i])**2\n",
    "        cost /= 2*m\n",
    "        \n",
    "        return cost\n",
    "    \n",
    "    def compute_gradient(self,x,y,w,b):\n",
    "        \n",
    "        m = x.shape[0]\n",
    "        dj_dw = 0\n",
    "        dj_db = 0\n",
    "        \n",
    "        for i in range(m):\n",
    "            dj_dw += ((x[i]*w + b) - y[i])*x[i]\n",
    "            dj_db += (x[i]*w + b) - y[i]\n",
    "        \n",
    "        dj_dw /= m\n",
    "        dj_db /= m\n",
    "        \n",
    "        return dj_dw,dj_db\n",
    "    \n",
    "    \n",
    "    def gradient_descent(self,x,y,w_in,b_in,alpha,num_iters):\n",
    "        \n",
    "        w = copy.deepcopy(w_in)\n",
    "        b = b_in\n",
    "        \n",
    "        cost_history = []\n",
    "        w_history = []\n",
    "        b_history = []\n",
    "        \n",
    "        for i in range(num_iters):\n",
    "            dj_dw,dj_db = self.compute_gradient(x,y,w,b)\n",
    "            w = w - alpha * dj_dw\n",
    "            b = b - alpha * dj_db\n",
    "            \n",
    "            if i % 100 == 0:\n",
    "                cost = self.compute_cost(x,y,w,b)\n",
    "                cost_history.append(cost)\n",
    "                w_history.append(w)\n",
    "                b_history.append(b)\n",
    "                print(f'cost after {i}th iteration: {cost}')\n",
    "            \n",
    "        return w,b,cost_history,w_history,b_history"
   ]
  },
  {
   "cell_type": "code",
   "execution_count": null,
   "id": "31a3ccc7-b415-4530-885f-3eb7e3bd75c9",
   "metadata": {},
   "outputs": [],
   "source": []
  }
 ],
 "metadata": {
  "kernelspec": {
   "display_name": "Python 3 (ipykernel)",
   "language": "python",
   "name": "python3"
  },
  "language_info": {
   "codemirror_mode": {
    "name": "ipython",
    "version": 3
   },
   "file_extension": ".py",
   "mimetype": "text/x-python",
   "name": "python",
   "nbconvert_exporter": "python",
   "pygments_lexer": "ipython3",
   "version": "3.8.10"
  }
 },
 "nbformat": 4,
 "nbformat_minor": 5
}
